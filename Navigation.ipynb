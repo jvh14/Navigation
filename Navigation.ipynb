{
 "cells": [
  {
   "cell_type": "markdown",
   "metadata": {},
   "source": [
    "# Navigation\n",
    "\n",
    "---\n",
    "\n",
    "In this notebook, you will learn how to use the Unity ML-Agents environment for the first project of the [Deep Reinforcement Learning Nanodegree](https://www.udacity.com/course/deep-reinforcement-learning-nanodegree--nd893).\n",
    "\n",
    "### 1. Start the Environment\n",
    "\n",
    "We begin by importing some necessary packages.  If the code cell below returns an error, please revisit the project instructions to double-check that you have installed [Unity ML-Agents](https://github.com/Unity-Technologies/ml-agents/blob/master/docs/Installation.md) and [NumPy](http://www.numpy.org/)."
   ]
  },
  {
   "cell_type": "code",
   "execution_count": 6,
   "metadata": {},
   "outputs": [
    {
     "name": "stdout",
     "output_type": "stream",
     "text": [
      "Requirement already satisfied: unityagents in /Users/jameshansen/anaconda3/lib/python3.6/site-packages (0.4.0)\n",
      "Requirement already satisfied: tensorflow==1.7.1 in /Users/jameshansen/anaconda3/lib/python3.6/site-packages (from unityagents) (1.7.1)\n",
      "Requirement already satisfied: grpcio==1.11.0 in /Users/jameshansen/anaconda3/lib/python3.6/site-packages (from unityagents) (1.11.0)\n",
      "Requirement already satisfied: pyyaml in /Users/jameshansen/anaconda3/lib/python3.6/site-packages (from unityagents) (3.12)\n",
      "Requirement already satisfied: matplotlib in /Users/jameshansen/anaconda3/lib/python3.6/site-packages (from unityagents) (2.2.2)\n",
      "Requirement already satisfied: numpy>=1.11.0 in /Users/jameshansen/anaconda3/lib/python3.6/site-packages (from unityagents) (1.14.3)\n",
      "Requirement already satisfied: docopt in /Users/jameshansen/anaconda3/lib/python3.6/site-packages (from unityagents) (0.6.2)\n",
      "Requirement already satisfied: protobuf==3.5.2 in /Users/jameshansen/anaconda3/lib/python3.6/site-packages (from unityagents) (3.5.2)\n",
      "Requirement already satisfied: pytest>=3.2.2 in /Users/jameshansen/anaconda3/lib/python3.6/site-packages (from unityagents) (3.7.1)\n",
      "Requirement already satisfied: jupyter in /Users/jameshansen/anaconda3/lib/python3.6/site-packages (from unityagents) (1.0.0)\n",
      "Requirement already satisfied: Pillow>=4.2.1 in /Users/jameshansen/anaconda3/lib/python3.6/site-packages (from unityagents) (4.2.1)\n",
      "Requirement already satisfied: gast>=0.2.0 in /Users/jameshansen/anaconda3/lib/python3.6/site-packages (from tensorflow==1.7.1->unityagents) (0.2.0)\n",
      "Requirement already satisfied: absl-py>=0.1.6 in /Users/jameshansen/anaconda3/lib/python3.6/site-packages (from tensorflow==1.7.1->unityagents) (0.3.0)\n",
      "Requirement already satisfied: six>=1.10.0 in /Users/jameshansen/anaconda3/lib/python3.6/site-packages (from tensorflow==1.7.1->unityagents) (1.11.0)\n",
      "Requirement already satisfied: termcolor>=1.1.0 in /Users/jameshansen/anaconda3/lib/python3.6/site-packages (from tensorflow==1.7.1->unityagents) (1.1.0)\n",
      "Requirement already satisfied: astor>=0.6.0 in /Users/jameshansen/anaconda3/lib/python3.6/site-packages (from tensorflow==1.7.1->unityagents) (0.7.1)\n",
      "Requirement already satisfied: tensorboard<1.8.0,>=1.7.0 in /Users/jameshansen/anaconda3/lib/python3.6/site-packages (from tensorflow==1.7.1->unityagents) (1.7.0)\n",
      "Requirement already satisfied: wheel>=0.26 in /Users/jameshansen/anaconda3/lib/python3.6/site-packages (from tensorflow==1.7.1->unityagents) (0.29.0)\n",
      "Requirement already satisfied: pyparsing!=2.0.4,!=2.1.2,!=2.1.6,>=2.0.1 in /Users/jameshansen/anaconda3/lib/python3.6/site-packages (from matplotlib->unityagents) (2.2.0)\n",
      "Requirement already satisfied: kiwisolver>=1.0.1 in /Users/jameshansen/anaconda3/lib/python3.6/site-packages (from matplotlib->unityagents) (1.0.1)\n",
      "Requirement already satisfied: pytz in /Users/jameshansen/anaconda3/lib/python3.6/site-packages (from matplotlib->unityagents) (2018.4)\n",
      "Requirement already satisfied: cycler>=0.10 in /Users/jameshansen/anaconda3/lib/python3.6/site-packages (from matplotlib->unityagents) (0.10.0)\n",
      "Requirement already satisfied: python-dateutil>=2.1 in /Users/jameshansen/anaconda3/lib/python3.6/site-packages (from matplotlib->unityagents) (2.7.2)\n",
      "Requirement already satisfied: setuptools in /Users/jameshansen/anaconda3/lib/python3.6/site-packages (from protobuf==3.5.2->unityagents) (39.1.0)\n",
      "Requirement already satisfied: atomicwrites>=1.0 in /Users/jameshansen/anaconda3/lib/python3.6/site-packages (from pytest>=3.2.2->unityagents) (1.1.5)\n",
      "Requirement already satisfied: py>=1.5.0 in /Users/jameshansen/anaconda3/lib/python3.6/site-packages (from pytest>=3.2.2->unityagents) (1.5.4)\n",
      "Requirement already satisfied: pluggy>=0.7 in /Users/jameshansen/anaconda3/lib/python3.6/site-packages (from pytest>=3.2.2->unityagents) (0.7.1)\n",
      "Requirement already satisfied: attrs>=17.4.0 in /Users/jameshansen/anaconda3/lib/python3.6/site-packages (from pytest>=3.2.2->unityagents) (18.1.0)\n",
      "Requirement already satisfied: more-itertools>=4.0.0 in /Users/jameshansen/anaconda3/lib/python3.6/site-packages (from pytest>=3.2.2->unityagents) (4.3.0)\n",
      "Requirement already satisfied: notebook in /Users/jameshansen/anaconda3/lib/python3.6/site-packages (from jupyter->unityagents) (5.0.0)\n",
      "Requirement already satisfied: qtconsole in /Users/jameshansen/anaconda3/lib/python3.6/site-packages (from jupyter->unityagents) (4.3.1)\n",
      "Requirement already satisfied: ipykernel in /Users/jameshansen/anaconda3/lib/python3.6/site-packages (from jupyter->unityagents) (4.6.1)\n",
      "Requirement already satisfied: jupyter-console in /Users/jameshansen/anaconda3/lib/python3.6/site-packages (from jupyter->unityagents) (5.2.0)\n",
      "Requirement already satisfied: ipywidgets in /Users/jameshansen/anaconda3/lib/python3.6/site-packages (from jupyter->unityagents) (7.0.0)\n",
      "Requirement already satisfied: nbconvert in /Users/jameshansen/anaconda3/lib/python3.6/site-packages (from jupyter->unityagents) (5.3.1)\n",
      "Requirement already satisfied: olefile in /Users/jameshansen/anaconda3/lib/python3.6/site-packages (from Pillow>=4.2.1->unityagents) (0.44)\n",
      "Requirement already satisfied: werkzeug>=0.11.10 in /Users/jameshansen/anaconda3/lib/python3.6/site-packages (from tensorboard<1.8.0,>=1.7.0->tensorflow==1.7.1->unityagents) (0.12.2)\n",
      "Requirement already satisfied: bleach==1.5.0 in /Users/jameshansen/anaconda3/lib/python3.6/site-packages (from tensorboard<1.8.0,>=1.7.0->tensorflow==1.7.1->unityagents) (1.5.0)\n",
      "Requirement already satisfied: markdown>=2.6.8 in /Users/jameshansen/anaconda3/lib/python3.6/site-packages (from tensorboard<1.8.0,>=1.7.0->tensorflow==1.7.1->unityagents) (2.6.11)\n",
      "Requirement already satisfied: html5lib==0.9999999 in /Users/jameshansen/anaconda3/lib/python3.6/site-packages (from tensorboard<1.8.0,>=1.7.0->tensorflow==1.7.1->unityagents) (0.9999999)\n",
      "Requirement already satisfied: ipython>=4.0.0 in /Users/jameshansen/anaconda3/lib/python3.6/site-packages (from ipykernel->jupyter->unityagents) (6.1.0)\n",
      "Requirement already satisfied: traitlets>=4.1.0 in /Users/jameshansen/anaconda3/lib/python3.6/site-packages (from ipykernel->jupyter->unityagents) (4.3.2)\n",
      "Requirement already satisfied: jupyter_client in /Users/jameshansen/anaconda3/lib/python3.6/site-packages (from ipykernel->jupyter->unityagents) (5.1.0)\n",
      "Requirement already satisfied: tornado>=4.0 in /Users/jameshansen/anaconda3/lib/python3.6/site-packages (from ipykernel->jupyter->unityagents) (4.5.2)\n",
      "Requirement already satisfied: prompt_toolkit<2.0.0,>=1.0.0 in /Users/jameshansen/anaconda3/lib/python3.6/site-packages (from jupyter-console->jupyter->unityagents) (1.0.15)\n",
      "Requirement already satisfied: pygments in /Users/jameshansen/anaconda3/lib/python3.6/site-packages (from jupyter-console->jupyter->unityagents) (2.2.0)\n",
      "Requirement already satisfied: nbformat>=4.2.0 in /Users/jameshansen/anaconda3/lib/python3.6/site-packages (from ipywidgets->jupyter->unityagents) (4.4.0)\n",
      "Requirement already satisfied: widgetsnbextension~=3.0.0 in /Users/jameshansen/anaconda3/lib/python3.6/site-packages (from ipywidgets->jupyter->unityagents) (3.0.2)\n",
      "Requirement already satisfied: mistune>=0.7.4 in /Users/jameshansen/anaconda3/lib/python3.6/site-packages (from nbconvert->jupyter->unityagents) (0.7.4)\n",
      "Requirement already satisfied: jinja2 in /Users/jameshansen/anaconda3/lib/python3.6/site-packages (from nbconvert->jupyter->unityagents) (2.9.6)\n",
      "Requirement already satisfied: jupyter_core in /Users/jameshansen/anaconda3/lib/python3.6/site-packages (from nbconvert->jupyter->unityagents) (4.3.0)\n",
      "Requirement already satisfied: entrypoints>=0.2.2 in /Users/jameshansen/anaconda3/lib/python3.6/site-packages (from nbconvert->jupyter->unityagents) (0.2.3)\n",
      "Requirement already satisfied: pandocfilters>=1.4.1 in /Users/jameshansen/anaconda3/lib/python3.6/site-packages (from nbconvert->jupyter->unityagents) (1.4.2)\n",
      "Requirement already satisfied: testpath in /Users/jameshansen/anaconda3/lib/python3.6/site-packages (from nbconvert->jupyter->unityagents) (0.3.1)\n",
      "Requirement already satisfied: jedi>=0.10 in /Users/jameshansen/anaconda3/lib/python3.6/site-packages (from ipython>=4.0.0->ipykernel->jupyter->unityagents) (0.10.2)\n",
      "Requirement already satisfied: decorator in /Users/jameshansen/anaconda3/lib/python3.6/site-packages (from ipython>=4.0.0->ipykernel->jupyter->unityagents) (4.1.2)\n",
      "Requirement already satisfied: pickleshare in /Users/jameshansen/anaconda3/lib/python3.6/site-packages (from ipython>=4.0.0->ipykernel->jupyter->unityagents) (0.7.4)\n",
      "Requirement already satisfied: simplegeneric>0.8 in /Users/jameshansen/anaconda3/lib/python3.6/site-packages (from ipython>=4.0.0->ipykernel->jupyter->unityagents) (0.8.1)\n",
      "Requirement already satisfied: appnope in /Users/jameshansen/anaconda3/lib/python3.6/site-packages (from ipython>=4.0.0->ipykernel->jupyter->unityagents) (0.1.0)\n",
      "Requirement already satisfied: pexpect in /Users/jameshansen/anaconda3/lib/python3.6/site-packages (from ipython>=4.0.0->ipykernel->jupyter->unityagents) (4.2.1)\n",
      "Requirement already satisfied: ipython_genutils in /Users/jameshansen/anaconda3/lib/python3.6/site-packages (from traitlets>=4.1.0->ipykernel->jupyter->unityagents) (0.2.0)\n",
      "Requirement already satisfied: pyzmq>=13 in /Users/jameshansen/anaconda3/lib/python3.6/site-packages (from jupyter_client->ipykernel->jupyter->unityagents) (16.0.2)\n",
      "Requirement already satisfied: wcwidth in /Users/jameshansen/anaconda3/lib/python3.6/site-packages (from prompt_toolkit<2.0.0,>=1.0.0->jupyter-console->jupyter->unityagents) (0.1.7)\n",
      "Requirement already satisfied: jsonschema!=2.5.0,>=2.4 in /Users/jameshansen/anaconda3/lib/python3.6/site-packages (from nbformat>=4.2.0->ipywidgets->jupyter->unityagents) (2.6.0)\n",
      "Requirement already satisfied: MarkupSafe>=0.23 in /Users/jameshansen/anaconda3/lib/python3.6/site-packages (from jinja2->nbconvert->jupyter->unityagents) (1.0)\n"
     ]
    }
   ],
   "source": [
    "!pip install unityagents"
   ]
  },
  {
   "cell_type": "code",
   "execution_count": 2,
   "metadata": {
    "collapsed": true
   },
   "outputs": [],
   "source": [
    "from unityagents import UnityEnvironment\n",
    "import numpy as np\n",
    "#!pip install box2d\n",
    "import random\n",
    "import torch\n",
    "import numpy as np\n",
    "from collections import deque\n",
    "import matplotlib.pyplot as plt\n",
    "%matplotlib inline"
   ]
  },
  {
   "cell_type": "markdown",
   "metadata": {},
   "source": [
    "Next, we will start the environment!  **_Before running the code cell below_**, change the `file_name` parameter to match the location of the Unity environment that you downloaded.\n",
    "\n",
    "- **Mac**: `\"path/to/Banana.app\"`\n",
    "- **Windows** (x86): `\"path/to/Banana_Windows_x86/Banana.exe\"`\n",
    "- **Windows** (x86_64): `\"path/to/Banana_Windows_x86_64/Banana.exe\"`\n",
    "- **Linux** (x86): `\"path/to/Banana_Linux/Banana.x86\"`\n",
    "- **Linux** (x86_64): `\"path/to/Banana_Linux/Banana.x86_64\"`\n",
    "- **Linux** (x86, headless): `\"path/to/Banana_Linux_NoVis/Banana.x86\"`\n",
    "- **Linux** (x86_64, headless): `\"path/to/Banana_Linux_NoVis/Banana.x86_64\"`\n",
    "\n",
    "For instance, if you are using a Mac, then you downloaded `Banana.app`.  If this file is in the same folder as the notebook, then the line below should appear as follows:\n",
    "```\n",
    "env = UnityEnvironment(file_name=\"Banana.app\")\n",
    "```"
   ]
  },
  {
   "cell_type": "code",
   "execution_count": 3,
   "metadata": {},
   "outputs": [
    {
     "name": "stderr",
     "output_type": "stream",
     "text": [
      "INFO:unityagents:\n",
      "'Academy' started successfully!\n",
      "Unity Academy name: Academy\n",
      "        Number of Brains: 1\n",
      "        Number of External Brains : 1\n",
      "        Lesson number : 0\n",
      "        Reset Parameters :\n",
      "\t\t\n",
      "Unity brain name: BananaBrain\n",
      "        Number of Visual Observations (per agent): 0\n",
      "        Vector Observation space type: continuous\n",
      "        Vector Observation space size (per agent): 37\n",
      "        Number of stacked Vector Observation: 1\n",
      "        Vector Action space type: discrete\n",
      "        Vector Action space size (per agent): 4\n",
      "        Vector Action descriptions: , , , \n"
     ]
    }
   ],
   "source": [
    "env = UnityEnvironment(file_name=\"Banana.app\")"
   ]
  },
  {
   "cell_type": "markdown",
   "metadata": {},
   "source": [
    "Environments contain **_brains_** which are responsible for deciding the actions of their associated agents. Here we check for the first brain available, and set it as the default brain we will be controlling from Python."
   ]
  },
  {
   "cell_type": "code",
   "execution_count": 4,
   "metadata": {
    "collapsed": true
   },
   "outputs": [],
   "source": [
    "# get the default brain\n",
    "brain_name = env.brain_names[0]\n",
    "brain = env.brains[brain_name]"
   ]
  },
  {
   "cell_type": "markdown",
   "metadata": {},
   "source": [
    "### 2. Examine the State and Action Spaces\n",
    "\n",
    "The simulation contains a single agent that navigates a large environment.  At each time step, it has four actions at its disposal:\n",
    "- `0` - walk forward \n",
    "- `1` - walk backward\n",
    "- `2` - turn left\n",
    "- `3` - turn right\n",
    "\n",
    "The state space has `37` dimensions and contains the agent's velocity, along with ray-based perception of objects around agent's forward direction.  A reward of `+1` is provided for collecting a yellow banana, and a reward of `-1` is provided for collecting a blue banana. \n",
    "\n",
    "Run the code cell below to print some information about the environment."
   ]
  },
  {
   "cell_type": "code",
   "execution_count": 5,
   "metadata": {},
   "outputs": [
    {
     "name": "stdout",
     "output_type": "stream",
     "text": [
      "Number of agents: 1\n",
      "Number of actions: 4\n",
      "States look like: [1.         0.         0.         0.         0.84408134 0.\n",
      " 0.         1.         0.         0.0748472  0.         1.\n",
      " 0.         0.         0.25755    1.         0.         0.\n",
      " 0.         0.74177343 0.         1.         0.         0.\n",
      " 0.25854847 0.         0.         1.         0.         0.09355672\n",
      " 0.         1.         0.         0.         0.31969345 0.\n",
      " 0.        ]\n",
      "States have length: 37\n"
     ]
    }
   ],
   "source": [
    "# reset the environment\n",
    "env_info = env.reset(train_mode=True)[brain_name]\n",
    "\n",
    "# number of agents in the environment\n",
    "print('Number of agents:', len(env_info.agents))\n",
    "\n",
    "# number of actions\n",
    "action_size = brain.vector_action_space_size\n",
    "print('Number of actions:', action_size)\n",
    "\n",
    "# examine the state space \n",
    "state = env_info.vector_observations[0]\n",
    "print('States look like:', state)\n",
    "state_size = len(state)\n",
    "print('States have length:', state_size)"
   ]
  },
  {
   "cell_type": "markdown",
   "metadata": {},
   "source": [
    "### 3. Take Random Actions in the Environment\n",
    "\n",
    "In the next code cell, you will learn how to use the Python API to control the agent and receive feedback from the environment.\n",
    "\n",
    "Once this cell is executed, you will watch the agent's performance, if it selects an action (uniformly) at random with each time step.  A window should pop up that allows you to observe the agent, as it moves through the environment.  \n",
    "\n",
    "Of course, as part of the project, you'll have to change the code so that the agent is able to use its experience to gradually choose better actions when interacting with the environment!"
   ]
  },
  {
   "cell_type": "code",
   "execution_count": 6,
   "metadata": {},
   "outputs": [
    {
     "name": "stdout",
     "output_type": "stream",
     "text": [
      "Score: 0.0\n"
     ]
    }
   ],
   "source": [
    "env_info = env.reset(train_mode=False)[brain_name] # reset the environment\n",
    "state = env_info.vector_observations[0]            # get the current state\n",
    "score = 0                                          # initialize the score\n",
    "while True:\n",
    "    action = np.random.randint(action_size)        # select an action\n",
    "    env_info = env.step(action)[brain_name]        # send the action to the environment\n",
    "    next_state = env_info.vector_observations[0]   # get the next state\n",
    "    reward = env_info.rewards[0]                   # get the reward\n",
    "    done = env_info.local_done[0]                  # see if episode has finished\n",
    "    score += reward                                # update the score\n",
    "    state = next_state                             # roll over the state to next time step\n",
    "    if done:                                       # exit loop if episode finished\n",
    "        break\n",
    "    \n",
    "print(\"Score: {}\".format(score))"
   ]
  },
  {
   "cell_type": "markdown",
   "metadata": {},
   "source": [
    "When finished, you can close the environment."
   ]
  },
  {
   "cell_type": "code",
   "execution_count": 12,
   "metadata": {
    "collapsed": true
   },
   "outputs": [],
   "source": [
    "#env.close()"
   ]
  },
  {
   "cell_type": "markdown",
   "metadata": {},
   "source": [
    "### 4. It's Your Turn!\n",
    "\n",
    "Now it's your turn to train your own agent to solve the environment!  When training the environment, set `train_mode=True`, so that the line for resetting the environment looks like the following:\n",
    "```python\n",
    "env_info = env.reset(train_mode=True)[brain_name]\n",
    "```"
   ]
  },
  {
   "cell_type": "code",
   "execution_count": 8,
   "metadata": {
    "collapsed": true
   },
   "outputs": [],
   "source": [
    "from agent import Agent\n",
    "\n",
    "agent = Agent(state_size=state_size, action_size=action_size, seed=0)"
   ]
  },
  {
   "cell_type": "code",
   "execution_count": 9,
   "metadata": {},
   "outputs": [
    {
     "name": "stdout",
     "output_type": "stream",
     "text": [
      "Episode 100\tAverage Score: 0.89\n",
      "Episode 200\tAverage Score: 3.46\n",
      "Episode 300\tAverage Score: 7.35\n",
      "Episode 400\tAverage Score: 11.11\n",
      "Episode 500\tAverage Score: 13.81\n",
      "Episode 529\tAverage Score: 14.07\n",
      "Environment solved in 429 episodes!\tAverage Score: 14.07\n"
     ]
    },
    {
     "data": {
      "image/png": "[encoded data removed]",
      "text/plain": [
       "<Figure size 432x288 with 1 Axes>"
      ]
     },
     "metadata": {},
     "output_type": "display_data"
    }
   ],
   "source": [
    "def dqn(n_episodes=900, max_t=1000, eps_start=1.0, eps_end=0.012, eps_decay=0.994):\n",
    "    \n",
    "        \n",
    "    scores = []                        # list containing scores\n",
    "    scores_window = deque(maxlen=100)  # last 100 scores\n",
    "    eps = eps_start                    # initialize eps\n",
    "    for i_episode in range(1, n_episodes+1):\n",
    "        env_info = env.reset(train_mode=True)[brain_name] # reset environment\n",
    "        state = env_info.vector_observations[0]            # get current state\n",
    "        score = 0\n",
    "        for t in range(max_t):\n",
    "            action = agent.act(state, eps)\n",
    "            env_info = env.step(action)[brain_name]        # send action to environment\n",
    "            next_state = env_info.vector_observations[0]   # get next state\n",
    "            reward = env_info.rewards[0]                   # get reward\n",
    "            done = env_info.local_done[0]                  # check if episode complete\n",
    "            score += reward                                # update score\n",
    "            agent.step(state, action, reward, next_state, done)\n",
    "            state = next_state\n",
    "            if done:\n",
    "                break \n",
    "        scores_window.append(score)       # save most recent scores\n",
    "        scores.append(score)              \n",
    "        eps = max(eps_end, eps_decay*eps) # decrease eps\n",
    "        print('\\rEpisode {}\\tAverage Score: {:.2f}'.format(i_episode, np.mean(scores_window)), end=\"\")\n",
    "        if i_episode % 100 == 0:\n",
    "            print('\\rEpisode {}\\tAverage Score: {:.2f}'.format(i_episode, np.mean(scores_window)))\n",
    "        if np.mean(scores_window)>=14.0:\n",
    "            print('\\nEnvironment solved in {:d} episodes!\\tAverage Score: {:.2f}'.format(i_episode-100, np.mean(scores_window)))\n",
    "            torch.save(agent.qnetwork_local.state_dict(), 'checkpoint.pth')\n",
    "            break\n",
    "    return scores\n",
    "\n",
    "scores = dqn()\n",
    "\n",
    "# plot scores\n",
    "fig = plt.figure()\n",
    "ax = fig.add_subplot(111)\n",
    "plt.plot(np.arange(len(scores)), scores)\n",
    "plt.ylabel('Score')\n",
    "plt.xlabel('Episode #')\n",
    "plt.show()"
   ]
  },
  {
   "cell_type": "code",
   "execution_count": 10,
   "metadata": {
    "collapsed": true
   },
   "outputs": [],
   "source": [
    "# load the weights from file\n",
    "agent.qnetwork_local.load_state_dict(torch.load('checkpoint.pth'))"
   ]
  },
  {
   "cell_type": "code",
   "execution_count": 11,
   "metadata": {},
   "outputs": [
    {
     "name": "stdout",
     "output_type": "stream",
     "text": [
      "Score: 11.0\n"
     ]
    }
   ],
   "source": [
    "env_info = env.reset(train_mode=False)[brain_name] # reset environment\n",
    "state = env_info.vector_observations[0]            # get current state\n",
    "score = 0                                          # initialize score\n",
    "while True:\n",
    "    action = agent.act(state)        # select an action\n",
    "    env_info = env.step(action)[brain_name]        # send action to environment\n",
    "    next_state = env_info.vector_observations[0]   # get next state\n",
    "    reward = env_info.rewards[0]                   # gather reward\n",
    "    done = env_info.local_done[0]                  # check if episode has finished\n",
    "    score += reward                                # update score\n",
    "    \n",
    "    agent.step(state, action, reward, next_state, done)\n",
    "    state = next_state\n",
    "    if done:                                       # exit when episode complete\n",
    "        break\n",
    "    \n",
    "print(\"Score: {}\".format(score))"
   ]
  },
  {
   "cell_type": "code",
   "execution_count": null,
   "metadata": {
    "collapsed": true
   },
   "outputs": [],
   "source": []
  }
 ],
 "metadata": {
  "kernelspec": {
   "display_name": "Python 3",
   "language": "python",
   "name": "python3"
  },
  "language_info": {
   "codemirror_mode": {
    "name": "ipython",
    "version": 3
   },
   "file_extension": ".py",
   "mimetype": "text/x-python",
   "name": "python",
   "nbconvert_exporter": "python",
   "pygments_lexer": "ipython3",
   "version": "3.6.3"
  }
 },
 "nbformat": 4,
 "nbformat_minor": 2
}
